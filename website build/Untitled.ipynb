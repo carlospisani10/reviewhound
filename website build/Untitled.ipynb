{
 "cells": [
  {
   "cell_type": "code",
   "execution_count": 4,
   "metadata": {
    "collapsed": true
   },
   "outputs": [],
   "source": [
    "import os\n",
    "import io\n",
    "import base64\n",
    "from flask import Flask, render_template, request\n",
    "import os\n",
    "import pandas as pd\n",
    "import json \n",
    "import numpy as np\n",
    "import keras.models\n",
    "import re\n",
    "import sys\n",
    "sys.path.append(os.path.abspath(\"./Sentiment_Model\"))\n",
    "#from load import *\n",
    "import logging\n",
    "from keras.preprocessing import sequence\n",
    "from keras.preprocessing.text import text_to_word_sequence\n",
    "from keras.models import Sequential\n",
    "from keras.layers import MaxPooling1D, Conv1D, Flatten, Dropout, Dense\n",
    "from keras.layers.embeddings import Embedding\n",
    "from keras.preprocessing import sequence\n",
    "import tensorflow as tf\n",
    "\n",
    "import keras\n",
    "from keras.preprocessing import image\n",
    "from keras.preprocessing.image import img_to_array\n",
    "from keras import backend as K\n",
    "\n",
    "from flask import Flask, request, redirect, jsonify, render_template\n",
    "\n"
   ]
  },
  {
   "cell_type": "code",
   "execution_count": 5,
   "metadata": {},
   "outputs": [
    {
     "name": "stdout",
     "output_type": "stream",
     "text": [
      "WARNING:tensorflow:From C:\\Users\\mikeb\\Anaconda3\\lib\\site-packages\\tensorflow\\python\\util\\deprecation.py:497: calling conv1d (from tensorflow.python.ops.nn_ops) with data_format=NHWC is deprecated and will be removed in a future version.\n",
      "Instructions for updating:\n",
      "`NHWC` for data_format is deprecated, use `NWC` instead\n"
     ]
    },
    {
     "name": "stderr",
     "output_type": "stream",
     "text": [
      "C:\\Users\\mikeb\\Anaconda3\\lib\\site-packages\\keras\\models.py:291: UserWarning: Error in loading the saved optimizer state. As a result, your model is starting with a freshly initialized optimizer.\n",
      "  warnings.warn('Error in loading the saved optimizer '\n"
     ]
    }
   ],
   "source": [
    "model = None\n",
    "graph = None\n",
    "\n",
    "PATH = './Sentiment_Model/optimal_dict3.json'\n",
    "with open(PATH) as json_data:\n",
    "    d = json.load(json_data)\n",
    "word_dict = pd.Series(d)\n",
    "\n",
    "# Parameters\n",
    "version = 4\n",
    "words = len(word_dict)\n",
    "review_len = 1000\n",
    "vec_len = 300\n",
    "patience = 5\n",
    "batch_size = 40\n",
    "epochs = 3\n",
    "\n",
    "def load_model():\n",
    "    global model\n",
    "    global graph\n",
    "    model = keras.models.load_model(\"./Sentiment_Model/optimalfloyds3.h5\")\n",
    "    graph = K.get_session().graph\n",
    "\n",
    "load_model()"
   ]
  },
  {
   "cell_type": "code",
   "execution_count": 6,
   "metadata": {},
   "outputs": [],
   "source": [
    "def encode_sentence(text):\n",
    "    result = []\n",
    "    arr = text_to_word_sequence(text, lower=True, split=\" \")\n",
    "    for word in arr:\n",
    "        w = encode_word(word)\n",
    "        if w is not None:\n",
    "            result.append(w)\n",
    "    return result\n",
    "\n",
    "def encode_word(word):\n",
    "    if word not in word_dict:\n",
    "        return None\n",
    "    return word_dict[word]\n",
    "\n",
    "def encode_batch(arr):\n",
    "    result = []\n",
    "    for sentence in arr:\n",
    "        result.append(encode_sentence(sentence))\n",
    "    return sequence.pad_sequences(result, maxlen=review_len)\n",
    "\n",
    "def predict_batch(arr):\n",
    "    batch = encode_batch(arr)\n",
    "    result = model.predict(batch, batch_size=len(batch), verbose=0)\n",
    "    return result\n",
    "\n"
   ]
  },
  {
   "cell_type": "code",
   "execution_count": 7,
   "metadata": {},
   "outputs": [],
   "source": [
    "\n",
    "# read the base64 encoded string\n",
    "# review = request.form.get('userInput')\n",
    "review =  \"tester review\";\n",
    "\n",
    "# Get the tensorflow default graph\n",
    "global graph\n",
    "with graph.as_default():\n",
    "\n",
    "    # Use the model to make a prediction\n",
    "\n",
    "    # prediction = predict_batch(review)\n",
    "    prediction = predict_batch([review])\n",
    "    # data[\"prediction\"] = str(prediction)\n",
    "    data[\"prediction_string\"] = str(prediction)\n",
    "    # data[\"prediction\"] = float(prediction)\n",
    "    data[\"success\"] = True"
   ]
  },
  {
   "cell_type": "code",
   "execution_count": 22,
   "metadata": {},
   "outputs": [
    {
     "name": "stdout",
     "output_type": "stream",
     "text": [
      "0.879\n",
      "0.879\n"
     ]
    }
   ],
   "source": [
    "output = data['prediction_string'][2:7]\n",
    "output2 = float(output)\n",
    "\n",
    "print(output)\n",
    "print(output2)"
   ]
  },
  {
   "cell_type": "code",
   "execution_count": null,
   "metadata": {
    "collapsed": true
   },
   "outputs": [],
   "source": [
    "output.type"
   ]
  }
 ],
 "metadata": {
  "kernelspec": {
   "display_name": "Python 3",
   "language": "python",
   "name": "python3"
  },
  "language_info": {
   "codemirror_mode": {
    "name": "ipython",
    "version": 3
   },
   "file_extension": ".py",
   "mimetype": "text/x-python",
   "name": "python",
   "nbconvert_exporter": "python",
   "pygments_lexer": "ipython3",
   "version": "3.6.2"
  }
 },
 "nbformat": 4,
 "nbformat_minor": 2
}
